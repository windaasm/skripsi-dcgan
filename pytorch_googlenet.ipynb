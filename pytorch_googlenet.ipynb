{
  "nbformat": 4,
  "nbformat_minor": 0,
  "metadata": {
    "colab": {
      "provenance": []
    },
    "kernelspec": {
      "name": "python3",
      "display_name": "Python 3"
    },
    "language_info": {
      "name": "python"
    }
  },
  "cells": [
    {
      "cell_type": "markdown",
      "source": [
        "# Augmentasi Biasa"
      ],
      "metadata": {
        "id": "4ol7svTRQyU2"
      }
    },
    {
      "cell_type": "markdown",
      "source": [
        "**3x lipat ke 360 gambar**\n"
      ],
      "metadata": {
        "id": "zccqCiYbSoRN"
      }
    },
    {
      "cell_type": "code",
      "source": [
        "import os\n",
        "import zipfile\n",
        "import random\n",
        "import shutil"
      ],
      "metadata": {
        "id": "SwPU4LGJUj4r"
      },
      "execution_count": null,
      "outputs": []
    },
    {
      "cell_type": "code",
      "source": [
        "from google.colab import drive\n",
        "import zipfile\n",
        "import os\n",
        "\n",
        "# Mount Google Drive\n",
        "drive.mount('/content/drive')\n",
        "\n",
        "# Unzipping the dataset\n",
        "zip_path = '/content/drive/MyDrive/rice_leaf_diseases.zip'\n",
        "extract_path = '/content/rice_leaf_diseases'\n",
        "\n",
        "with zipfile.ZipFile(zip_path, 'r') as zip_ref:\n",
        "    zip_ref.extractall(extract_path)\n",
        "\n",
        "# Verify extraction\n",
        "os.listdir(extract_path)"
      ],
      "metadata": {
        "id": "23NCsNJRQ29S",
        "colab": {
          "base_uri": "https://localhost:8080/"
        },
        "outputId": "4159eeb0-cd7f-4bff-8769-6d52bb6b709e"
      },
      "execution_count": null,
      "outputs": [
        {
          "output_type": "stream",
          "name": "stdout",
          "text": [
            "Mounted at /content/drive\n"
          ]
        },
        {
          "output_type": "execute_result",
          "data": {
            "text/plain": [
              "['Bacterial leaf blight', 'Leaf smut', 'Brown spot']"
            ]
          },
          "metadata": {},
          "execution_count": 2
        }
      ]
    },
    {
      "cell_type": "code",
      "source": [
        "import numpy as np\n",
        "from tensorflow.keras.preprocessing.image import ImageDataGenerator, load_img, img_to_array, array_to_img, save_img # Import from tensorflow.keras"
      ],
      "metadata": {
        "id": "yn1ChM1vVxcs"
      },
      "execution_count": null,
      "outputs": []
    },
    {
      "cell_type": "code",
      "source": [
        "# Image Data Generator with augmentations\n",
        "datagen = ImageDataGenerator(\n",
        "    rescale=1.0/255,\n",
        "    horizontal_flip=True,\n",
        "    vertical_flip=True,\n",
        "    rotation_range=20,\n",
        "    width_shift_range=0.1,\n",
        "    height_shift_range=0.1,\n",
        "    zoom_range=0.1,\n",
        "    fill_mode='reflect'\n",
        ")\n",
        "\n",
        "# Path to the dataset\n",
        "base_dir = '/content/rice_leaf_diseases'\n",
        "classes = ['Bacterial leaf blight', 'Brown spot', 'Leaf smut']\n",
        "augmented_dir = '/content/augmented_images'\n",
        "\n",
        "# Create directories for augmented data\n",
        "os.makedirs(augmented_dir, exist_ok=True)\n",
        "for cls in classes:\n",
        "    os.makedirs(os.path.join(augmented_dir, cls), exist_ok=True)"
      ],
      "metadata": {
        "id": "dRHNLiYy6EmJ"
      },
      "execution_count": null,
      "outputs": []
    },
    {
      "cell_type": "code",
      "source": [
        "# Function to augment and save images\n",
        "def augment_data(class_name, num_augmented_images):\n",
        "    class_dir = os.path.join(base_dir, class_name)\n",
        "    augmented_class_dir = os.path.join(augmented_dir, class_name)\n",
        "    image_files = [f for f in os.listdir(class_dir) if f.endswith('.jpg') or f.endswith('.JPG')]\n",
        "\n",
        "    for img_file in image_files:\n",
        "        img_path = os.path.join(class_dir, img_file)\n",
        "        img = load_img(img_path)\n",
        "\n",
        "        # Resize image\n",
        "        #img = img.resize((224, 224))\n",
        "\n",
        "        x = img_to_array(img)\n",
        "        x = np.expand_dims(x, axis=0)\n",
        "\n",
        "        img_gen = datagen.flow(x, batch_size=1)\n",
        "\n",
        "        for i in range(num_augmented_images):\n",
        "            batch = next(img_gen)\n",
        "            augmented_img = array_to_img(batch[0])\n",
        "\n",
        "            # Modified saving part\n",
        "            filename, ext = os.path.splitext(img_file)\n",
        "            save_img(os.path.join(augmented_class_dir, f\"{filename}_aug_{i}{ext}\"), augmented_img)\n",
        "\n",
        "# Number of augmented images per original image\n",
        "num_augmented_images_per_image = 3\n",
        "\n",
        "# Augment data for each class\n",
        "for cls in classes:\n",
        "    augment_data(cls, num_augmented_images_per_image)"
      ],
      "metadata": {
        "id": "FMQMkQQt6I2B"
      },
      "execution_count": null,
      "outputs": []
    },
    {
      "cell_type": "code",
      "source": [
        "# Create ZIP file\n",
        "zip_filename = \"/content/augmented_images.zip\"\n",
        "with zipfile.ZipFile(zip_filename, 'w', zipfile.ZIP_DEFLATED) as zipf:\n",
        "    for root, dirs, files in os.walk(augmented_dir):\n",
        "        for file in files:\n",
        "            zipf.write(os.path.join(root, file),\n",
        "                       os.path.relpath(os.path.join(root, file), augmented_dir))\n",
        "\n",
        "print(f\"ZIP file '{zip_filename}' created successfully.\")"
      ],
      "metadata": {
        "colab": {
          "base_uri": "https://localhost:8080/"
        },
        "id": "A7hY52Gq6L3O",
        "outputId": "4b104f01-2950-4f9f-d56a-df2cfbda04f2"
      },
      "execution_count": null,
      "outputs": [
        {
          "output_type": "stream",
          "name": "stdout",
          "text": [
            "ZIP file '/content/augmented_images.zip' created successfully.\n"
          ]
        }
      ]
    },
    {
      "cell_type": "markdown",
      "source": [
        "Hitung Jumlah Gambar yang Di augmentasi"
      ],
      "metadata": {
        "id": "QcIbjmr2RlSI"
      }
    },
    {
      "cell_type": "code",
      "source": [
        "def count_images_in_directory(directory):\n",
        "    count = 0\n",
        "    for root, dirs, files in os.walk(directory):\n",
        "        # Hanya menghitung file dengan ekstensi gambar\n",
        "        count += len([file for file in files if file.lower().endswith(('.jpg', '.jpeg'))])\n",
        "    return count\n",
        "\n",
        "# Daftar nama kelas\n",
        "classes = ['Bacterial leaf blight', 'Brown spot', 'Leaf smut']\n",
        "\n",
        "# Path direktori augmented images\n",
        "augmented_dir = '/content/augmented_images'\n",
        "\n",
        "# Hitung gambar yang telah di augmentasi dalam setiap kelas\n",
        "for cls in classes:\n",
        "    augmented_class_dir = os.path.join(augmented_dir, cls)\n",
        "    count = count_images_in_directory(augmented_class_dir)\n",
        "    print(f\"Number of images in {cls}: {count}\")\n"
      ],
      "metadata": {
        "colab": {
          "base_uri": "https://localhost:8080/"
        },
        "id": "oTG9IARORZM4",
        "outputId": "bdc9194d-7314-42f1-a6f6-0d8bbe6698b6"
      },
      "execution_count": null,
      "outputs": [
        {
          "output_type": "stream",
          "name": "stdout",
          "text": [
            "Number of images in Bacterial leaf blight: 120\n",
            "Number of images in Brown spot: 120\n",
            "Number of images in Leaf smut: 120\n"
          ]
        }
      ]
    },
    {
      "cell_type": "markdown",
      "source": [
        "Fungsi untuk Memisahkan Data dengan Pengacakan Data Asli"
      ],
      "metadata": {
        "id": "NgHiIr4jSHLC"
      }
    },
    {
      "cell_type": "code",
      "source": [
        "import os\n",
        "import shutil\n",
        "import numpy as np\n",
        "\n",
        "def split_data(source_dir, augmented_dir, train_dir, val_dir, test_dir, val_size_per_class, test_size_per_class, train_aug_size, train_orig_size):\n",
        "    classes = os.listdir(source_dir)\n",
        "    for cls in classes:\n",
        "        cls_source = os.path.join(source_dir, cls)\n",
        "        cls_augmented = os.path.join(augmented_dir, cls)\n",
        "        cls_train = os.path.join(train_dir, cls)\n",
        "        cls_val = os.path.join(val_dir, cls)\n",
        "        cls_test = os.path.join(test_dir, cls)\n",
        "\n",
        "        os.makedirs(cls_train, exist_ok=True)\n",
        "        os.makedirs(cls_val, exist_ok=True)\n",
        "        os.makedirs(cls_test, exist_ok=True)\n",
        "\n",
        "        # Get and shuffle original image files\n",
        "        image_files = [f for f in os.listdir(cls_source) if f.endswith('.jpg') or f.endswith('.JPG')]\n",
        "        np.random.shuffle(image_files)\n",
        "\n",
        "        # Check if there are enough images for validation and test\n",
        "        total_needed = val_size_per_class + test_size_per_class\n",
        "        if len(image_files) < total_needed + train_orig_size:\n",
        "            raise ValueError(f\"Not enough images in class {cls} to split into required parts\")\n",
        "\n",
        "        # Split data into validation and test sets\n",
        "        val_files = image_files[:val_size_per_class]\n",
        "        test_files = image_files[val_size_per_class:val_size_per_class + test_size_per_class]\n",
        "        train_orig_files = image_files[val_size_per_class + test_size_per_class:val_size_per_class + test_size_per_class + train_orig_size]\n",
        "\n",
        "        for file in val_files:\n",
        "            src_path = os.path.join(cls_source, file)\n",
        "            dst_path = os.path.join(cls_val, file)\n",
        "            shutil.copyfile(src_path, dst_path)\n",
        "\n",
        "        for file in test_files:\n",
        "            src_path = os.path.join(cls_source, file)\n",
        "            dst_path = os.path.join(cls_test, file)\n",
        "            shutil.copyfile(src_path, dst_path)\n",
        "\n",
        "        for file in train_orig_files:\n",
        "            src_path = os.path.join(cls_source, file)\n",
        "            dst_path = os.path.join(cls_train, file)\n",
        "            shutil.copyfile(src_path, dst_path)\n",
        "\n",
        "        # Handle training from augmented data\n",
        "        aug_image_files = [f for f in os.listdir(cls_augmented) if f.endswith('.jpg') or f.endswith('.JPG')]\n",
        "        np.random.shuffle(aug_image_files)\n",
        "        train_aug_files = aug_image_files[:train_aug_size]\n",
        "\n",
        "        for file in train_aug_files:\n",
        "            src_path = os.path.join(cls_augmented, file)\n",
        "            dst_path = os.path.join(cls_train, file)\n",
        "            shutil.copyfile(src_path, dst_path)"
      ],
      "metadata": {
        "id": "5rZ4Ja-CSBra"
      },
      "execution_count": null,
      "outputs": []
    },
    {
      "cell_type": "markdown",
      "source": [
        "Definisi Direktori dan Eksekusi Fungsi"
      ],
      "metadata": {
        "id": "5PFqKD71SMX0"
      }
    },
    {
      "cell_type": "code",
      "source": [
        "# Define directories\n",
        "source_dir = '/content/rice_leaf_diseases'  # original images\n",
        "augmented_dir = '/content/augmented_images'  # augmented images\n",
        "train_dir = '/content/split_dataset/train'\n",
        "val_dir = '/content/split_dataset/val'\n",
        "test_dir = '/content/split_dataset/test'\n",
        "\n",
        "# Define sizes for split per class\n",
        "val_size_per_class = 10\n",
        "test_size_per_class = 10\n",
        "train_aug_size = 120\n",
        "train_orig_size = 20\n",
        "\n",
        "# Perform split\n",
        "split_data(source_dir, augmented_dir, train_dir, val_dir, test_dir, val_size_per_class, test_size_per_class, train_aug_size, train_orig_size)"
      ],
      "metadata": {
        "id": "hWELxZTySPNl"
      },
      "execution_count": null,
      "outputs": []
    },
    {
      "cell_type": "markdown",
      "source": [
        "Fungsi untuk Menghitung Jumlah Gambar dalam Setiap Direktori"
      ],
      "metadata": {
        "id": "qHMg3lRLJNkz"
      }
    },
    {
      "cell_type": "code",
      "source": [
        "def count_images_in_directory(directory):\n",
        "    class_counts = {}\n",
        "    for cls in os.listdir(directory):\n",
        "        cls_dir = os.path.join(directory, cls)\n",
        "        class_counts[cls] = len(os.listdir(cls_dir))\n",
        "    return class_counts"
      ],
      "metadata": {
        "id": "t8097sdISsbs"
      },
      "execution_count": null,
      "outputs": []
    },
    {
      "cell_type": "markdown",
      "source": [
        "Verifikasi Pemisahan Data"
      ],
      "metadata": {
        "id": "XE9bk7lkJQA5"
      }
    },
    {
      "cell_type": "code",
      "source": [
        "print(\"Training set:\")\n",
        "print(count_images_in_directory(train_dir))\n",
        "print(\"\\nValidation set:\")\n",
        "print(count_images_in_directory(val_dir))\n",
        "print(\"\\nTest set:\")\n",
        "print(count_images_in_directory(test_dir))"
      ],
      "metadata": {
        "colab": {
          "base_uri": "https://localhost:8080/"
        },
        "id": "Y3_8g6j-I6aH",
        "outputId": "8065a670-6c00-4553-b023-134c36108b9a"
      },
      "execution_count": null,
      "outputs": [
        {
          "output_type": "stream",
          "name": "stdout",
          "text": [
            "Training set:\n",
            "{'Bacterial leaf blight': 140, 'Leaf smut': 140, 'Brown spot': 140}\n",
            "\n",
            "Validation set:\n",
            "{'Bacterial leaf blight': 10, 'Leaf smut': 10, 'Brown spot': 10}\n",
            "\n",
            "Test set:\n",
            "{'Bacterial leaf blight': 10, 'Leaf smut': 10, 'Brown spot': 10}\n"
          ]
        }
      ]
    },
    {
      "cell_type": "markdown",
      "source": [
        "Load Dataset"
      ],
      "metadata": {
        "id": "a_gEmt3QTBBV"
      }
    },
    {
      "cell_type": "code",
      "source": [
        "!pip install torch torchvision"
      ],
      "metadata": {
        "id": "JxVpRJ_sg33P",
        "colab": {
          "base_uri": "https://localhost:8080/"
        },
        "outputId": "8186ebdc-42f4-4ccb-d0c4-ba8cb00baac5"
      },
      "execution_count": null,
      "outputs": [
        {
          "output_type": "stream",
          "name": "stdout",
          "text": [
            "Requirement already satisfied: torch in /usr/local/lib/python3.10/dist-packages (2.3.1+cu121)\n",
            "Requirement already satisfied: torchvision in /usr/local/lib/python3.10/dist-packages (0.18.1+cu121)\n",
            "Requirement already satisfied: filelock in /usr/local/lib/python3.10/dist-packages (from torch) (3.15.4)\n",
            "Requirement already satisfied: typing-extensions>=4.8.0 in /usr/local/lib/python3.10/dist-packages (from torch) (4.12.2)\n",
            "Requirement already satisfied: sympy in /usr/local/lib/python3.10/dist-packages (from torch) (1.13.1)\n",
            "Requirement already satisfied: networkx in /usr/local/lib/python3.10/dist-packages (from torch) (3.3)\n",
            "Requirement already satisfied: jinja2 in /usr/local/lib/python3.10/dist-packages (from torch) (3.1.4)\n",
            "Requirement already satisfied: fsspec in /usr/local/lib/python3.10/dist-packages (from torch) (2024.6.1)\n",
            "Collecting nvidia-cuda-nvrtc-cu12==12.1.105 (from torch)\n",
            "  Using cached nvidia_cuda_nvrtc_cu12-12.1.105-py3-none-manylinux1_x86_64.whl.metadata (1.5 kB)\n",
            "Collecting nvidia-cuda-runtime-cu12==12.1.105 (from torch)\n",
            "  Using cached nvidia_cuda_runtime_cu12-12.1.105-py3-none-manylinux1_x86_64.whl.metadata (1.5 kB)\n",
            "Collecting nvidia-cuda-cupti-cu12==12.1.105 (from torch)\n",
            "  Using cached nvidia_cuda_cupti_cu12-12.1.105-py3-none-manylinux1_x86_64.whl.metadata (1.6 kB)\n",
            "Collecting nvidia-cudnn-cu12==8.9.2.26 (from torch)\n",
            "  Using cached nvidia_cudnn_cu12-8.9.2.26-py3-none-manylinux1_x86_64.whl.metadata (1.6 kB)\n",
            "Collecting nvidia-cublas-cu12==12.1.3.1 (from torch)\n",
            "  Using cached nvidia_cublas_cu12-12.1.3.1-py3-none-manylinux1_x86_64.whl.metadata (1.5 kB)\n",
            "Collecting nvidia-cufft-cu12==11.0.2.54 (from torch)\n",
            "  Using cached nvidia_cufft_cu12-11.0.2.54-py3-none-manylinux1_x86_64.whl.metadata (1.5 kB)\n",
            "Collecting nvidia-curand-cu12==10.3.2.106 (from torch)\n",
            "  Using cached nvidia_curand_cu12-10.3.2.106-py3-none-manylinux1_x86_64.whl.metadata (1.5 kB)\n",
            "Collecting nvidia-cusolver-cu12==11.4.5.107 (from torch)\n",
            "  Using cached nvidia_cusolver_cu12-11.4.5.107-py3-none-manylinux1_x86_64.whl.metadata (1.6 kB)\n",
            "Collecting nvidia-cusparse-cu12==12.1.0.106 (from torch)\n",
            "  Using cached nvidia_cusparse_cu12-12.1.0.106-py3-none-manylinux1_x86_64.whl.metadata (1.6 kB)\n",
            "Collecting nvidia-nccl-cu12==2.20.5 (from torch)\n",
            "  Using cached nvidia_nccl_cu12-2.20.5-py3-none-manylinux2014_x86_64.whl.metadata (1.8 kB)\n",
            "Collecting nvidia-nvtx-cu12==12.1.105 (from torch)\n",
            "  Using cached nvidia_nvtx_cu12-12.1.105-py3-none-manylinux1_x86_64.whl.metadata (1.7 kB)\n",
            "Requirement already satisfied: triton==2.3.1 in /usr/local/lib/python3.10/dist-packages (from torch) (2.3.1)\n",
            "Collecting nvidia-nvjitlink-cu12 (from nvidia-cusolver-cu12==11.4.5.107->torch)\n",
            "  Using cached nvidia_nvjitlink_cu12-12.6.20-py3-none-manylinux2014_x86_64.whl.metadata (1.5 kB)\n",
            "Requirement already satisfied: numpy in /usr/local/lib/python3.10/dist-packages (from torchvision) (1.26.4)\n",
            "Requirement already satisfied: pillow!=8.3.*,>=5.3.0 in /usr/local/lib/python3.10/dist-packages (from torchvision) (9.4.0)\n",
            "Requirement already satisfied: MarkupSafe>=2.0 in /usr/local/lib/python3.10/dist-packages (from jinja2->torch) (2.1.5)\n",
            "Requirement already satisfied: mpmath<1.4,>=1.1.0 in /usr/local/lib/python3.10/dist-packages (from sympy->torch) (1.3.0)\n",
            "Using cached nvidia_cublas_cu12-12.1.3.1-py3-none-manylinux1_x86_64.whl (410.6 MB)\n",
            "Using cached nvidia_cuda_cupti_cu12-12.1.105-py3-none-manylinux1_x86_64.whl (14.1 MB)\n",
            "Using cached nvidia_cuda_nvrtc_cu12-12.1.105-py3-none-manylinux1_x86_64.whl (23.7 MB)\n",
            "Using cached nvidia_cuda_runtime_cu12-12.1.105-py3-none-manylinux1_x86_64.whl (823 kB)\n",
            "Using cached nvidia_cudnn_cu12-8.9.2.26-py3-none-manylinux1_x86_64.whl (731.7 MB)\n",
            "Using cached nvidia_cufft_cu12-11.0.2.54-py3-none-manylinux1_x86_64.whl (121.6 MB)\n",
            "Using cached nvidia_curand_cu12-10.3.2.106-py3-none-manylinux1_x86_64.whl (56.5 MB)\n",
            "Using cached nvidia_cusolver_cu12-11.4.5.107-py3-none-manylinux1_x86_64.whl (124.2 MB)\n",
            "Using cached nvidia_cusparse_cu12-12.1.0.106-py3-none-manylinux1_x86_64.whl (196.0 MB)\n",
            "Using cached nvidia_nccl_cu12-2.20.5-py3-none-manylinux2014_x86_64.whl (176.2 MB)\n",
            "Using cached nvidia_nvtx_cu12-12.1.105-py3-none-manylinux1_x86_64.whl (99 kB)\n",
            "Using cached nvidia_nvjitlink_cu12-12.6.20-py3-none-manylinux2014_x86_64.whl (19.7 MB)\n",
            "Installing collected packages: nvidia-nvtx-cu12, nvidia-nvjitlink-cu12, nvidia-nccl-cu12, nvidia-curand-cu12, nvidia-cufft-cu12, nvidia-cuda-runtime-cu12, nvidia-cuda-nvrtc-cu12, nvidia-cuda-cupti-cu12, nvidia-cublas-cu12, nvidia-cusparse-cu12, nvidia-cudnn-cu12, nvidia-cusolver-cu12\n",
            "Successfully installed nvidia-cublas-cu12-12.1.3.1 nvidia-cuda-cupti-cu12-12.1.105 nvidia-cuda-nvrtc-cu12-12.1.105 nvidia-cuda-runtime-cu12-12.1.105 nvidia-cudnn-cu12-8.9.2.26 nvidia-cufft-cu12-11.0.2.54 nvidia-curand-cu12-10.3.2.106 nvidia-cusolver-cu12-11.4.5.107 nvidia-cusparse-cu12-12.1.0.106 nvidia-nccl-cu12-2.20.5 nvidia-nvjitlink-cu12-12.6.20 nvidia-nvtx-cu12-12.1.105\n"
          ]
        }
      ]
    },
    {
      "cell_type": "code",
      "source": [
        "import torch\n",
        "from torchvision import datasets, transforms\n",
        "from torch.utils.data import DataLoader\n",
        "\n",
        "data_transforms = {\n",
        "    'train': transforms.Compose([\n",
        "        transforms.Resize((224, 224)),\n",
        "        transforms.ToTensor(),\n",
        "        transforms.Normalize([0.485, 0.456, 0.406], [0.229, 0.224, 0.225])\n",
        "    ]),\n",
        "    'val': transforms.Compose([\n",
        "        transforms.Resize((224, 224)),\n",
        "        transforms.ToTensor(),\n",
        "        transforms.Normalize([0.485, 0.456, 0.406], [0.229, 0.224, 0.225])\n",
        "    ]),\n",
        "    'test': transforms.Compose([\n",
        "        transforms.Resize((224, 224)),\n",
        "        transforms.ToTensor(),\n",
        "        transforms.Normalize([0.485, 0.456, 0.406], [0.229, 0.224, 0.225])\n",
        "    ]),\n",
        "}\n",
        "\n",
        "image_datasets = {\n",
        "    'train': datasets.ImageFolder(train_dir, data_transforms['train']),\n",
        "    'val': datasets.ImageFolder(val_dir, data_transforms['val']),\n",
        "    'test': datasets.ImageFolder(test_dir, data_transforms['test'])\n",
        "}\n",
        "\n",
        "dataloaders = {\n",
        "    'train': DataLoader(image_datasets['train'], batch_size=32, shuffle=True, num_workers=4),\n",
        "    'val': DataLoader(image_datasets['val'], batch_size=32, shuffle=False, num_workers=4),\n",
        "    'test': DataLoader(image_datasets['test'], batch_size=32, shuffle=False, num_workers=4)\n",
        "}"
      ],
      "metadata": {
        "id": "UMGGODNsvYal",
        "colab": {
          "base_uri": "https://localhost:8080/"
        },
        "outputId": "fb422096-b132-4754-be6d-d453db3ad753"
      },
      "execution_count": null,
      "outputs": [
        {
          "output_type": "stream",
          "name": "stderr",
          "text": [
            "/usr/local/lib/python3.10/dist-packages/torch/utils/data/dataloader.py:558: UserWarning: This DataLoader will create 4 worker processes in total. Our suggested max number of worker in current system is 2, which is smaller than what this DataLoader is going to create. Please be aware that excessive worker creation might get DataLoader running slow or even freeze, lower the worker number to avoid potential slowness/freeze if necessary.\n",
            "  warnings.warn(_create_warning_msg(\n"
          ]
        }
      ]
    },
    {
      "cell_type": "code",
      "source": [
        "import torch\n",
        "import torch.nn as nn\n",
        "import torch.optim as optim\n",
        "from torchvision import models\n",
        "import copy\n",
        "from torchsummary import summary\n",
        "from sklearn.metrics import classification_report, precision_score, recall_score, f1_score\n",
        "\n",
        "device = torch.device(\"cuda:0\" if torch.cuda.is_available() else \"cpu\")\n",
        "\n",
        "model = models.googlenet(pretrained=True)\n",
        "num_ftrs = model.fc.in_features\n",
        "model.fc = nn.Linear(num_ftrs, len(image_datasets['train'].classes))\n",
        "\n",
        "model = model.to(device)\n",
        "summary(model, (3, 224, 224))  # Display model summary\n",
        "\n",
        "criterion = nn.CrossEntropyLoss()\n",
        "optimizer = optim.SGD(model.parameters(), lr=0.001, momentum=0.9)\n",
        "\n",
        "def train_model(model, criterion, optimizer, dataloaders, num_epochs=10):\n",
        "    best_model_wts = copy.deepcopy(model.state_dict())\n",
        "    best_acc = 0.0\n",
        "    history = {'train_loss': [], 'train_acc': [], 'val_loss': [], 'val_acc': []}\n",
        "\n",
        "    for epoch in range(num_epochs):\n",
        "        print(f'Epoch {epoch}/{num_epochs - 1}')\n",
        "        print('-' * 10)\n",
        "\n",
        "        for phase in ['train', 'val']:\n",
        "            if phase == 'train':\n",
        "                model.train()\n",
        "            else:\n",
        "                model.eval()\n",
        "\n",
        "            running_loss = 0.0\n",
        "            running_corrects = 0\n",
        "            all_labels = []\n",
        "            all_preds = []\n",
        "\n",
        "            for inputs, labels in dataloaders[phase]:\n",
        "                inputs = inputs.to(device)\n",
        "                labels = labels.to(device)\n",
        "\n",
        "                optimizer.zero_grad()\n",
        "\n",
        "                with torch.set_grad_enabled(phase == 'train'):\n",
        "                    outputs = model(inputs)\n",
        "                    _, preds = torch.max(outputs, 1)\n",
        "                    loss = criterion(outputs, labels)\n",
        "\n",
        "                    if phase == 'train':\n",
        "                        loss.backward()\n",
        "                        optimizer.step()\n",
        "\n",
        "                running_loss += loss.item() * inputs.size(0)\n",
        "                running_corrects += torch.sum(preds == labels.data)\n",
        "                all_labels.extend(labels.cpu().numpy())\n",
        "                all_preds.extend(preds.cpu().numpy())\n",
        "\n",
        "            epoch_loss = running_loss / len(dataloaders[phase].dataset)\n",
        "            epoch_acc = running_corrects.double() / len(dataloaders[phase].dataset)\n",
        "\n",
        "            history[phase + '_loss'].append(epoch_loss)\n",
        "            history[phase + '_acc'].append(epoch_acc.item())\n",
        "\n",
        "            print(f'{phase} Loss: {epoch_loss:.4f} Acc: {epoch_acc:.4f}')\n",
        "\n",
        "            if phase == 'val' and epoch_acc > best_acc:\n",
        "                best_acc = epoch_acc\n",
        "                best_model_wts = copy.deepcopy(model.state_dict())\n",
        "\n",
        "    print(f'Best val Acc: {best_acc:4f}')\n",
        "    model.load_state_dict(best_model_wts)\n",
        "    return model, history\n",
        "\n",
        "model, history = train_model(model, criterion, optimizer, dataloaders, num_epochs=10)"
      ],
      "metadata": {
        "colab": {
          "base_uri": "https://localhost:8080/"
        },
        "id": "RdPd8GzHviv0",
        "outputId": "555102e0-a270-4be6-e1ed-b6fb58189f2e"
      },
      "execution_count": null,
      "outputs": [
        {
          "output_type": "stream",
          "name": "stderr",
          "text": [
            "/usr/local/lib/python3.10/dist-packages/torchvision/models/_utils.py:208: UserWarning: The parameter 'pretrained' is deprecated since 0.13 and may be removed in the future, please use 'weights' instead.\n",
            "  warnings.warn(\n",
            "/usr/local/lib/python3.10/dist-packages/torchvision/models/_utils.py:223: UserWarning: Arguments other than a weight enum or `None` for 'weights' are deprecated since 0.13 and may be removed in the future. The current behavior is equivalent to passing `weights=GoogLeNet_Weights.IMAGENET1K_V1`. You can also use `weights=GoogLeNet_Weights.DEFAULT` to get the most up-to-date weights.\n",
            "  warnings.warn(msg)\n",
            "Downloading: \"https://download.pytorch.org/models/googlenet-1378be20.pth\" to /root/.cache/torch/hub/checkpoints/googlenet-1378be20.pth\n",
            "100%|██████████| 49.7M/49.7M [00:01<00:00, 35.9MB/s]\n"
          ]
        },
        {
          "output_type": "stream",
          "name": "stdout",
          "text": [
            "----------------------------------------------------------------\n",
            "        Layer (type)               Output Shape         Param #\n",
            "================================================================\n",
            "            Conv2d-1         [-1, 64, 112, 112]           9,408\n",
            "       BatchNorm2d-2         [-1, 64, 112, 112]             128\n",
            "       BasicConv2d-3         [-1, 64, 112, 112]               0\n",
            "         MaxPool2d-4           [-1, 64, 56, 56]               0\n",
            "            Conv2d-5           [-1, 64, 56, 56]           4,096\n",
            "       BatchNorm2d-6           [-1, 64, 56, 56]             128\n",
            "       BasicConv2d-7           [-1, 64, 56, 56]               0\n",
            "            Conv2d-8          [-1, 192, 56, 56]         110,592\n",
            "       BatchNorm2d-9          [-1, 192, 56, 56]             384\n",
            "      BasicConv2d-10          [-1, 192, 56, 56]               0\n",
            "        MaxPool2d-11          [-1, 192, 28, 28]               0\n",
            "           Conv2d-12           [-1, 64, 28, 28]          12,288\n",
            "      BatchNorm2d-13           [-1, 64, 28, 28]             128\n",
            "      BasicConv2d-14           [-1, 64, 28, 28]               0\n",
            "           Conv2d-15           [-1, 96, 28, 28]          18,432\n",
            "      BatchNorm2d-16           [-1, 96, 28, 28]             192\n",
            "      BasicConv2d-17           [-1, 96, 28, 28]               0\n",
            "           Conv2d-18          [-1, 128, 28, 28]         110,592\n",
            "      BatchNorm2d-19          [-1, 128, 28, 28]             256\n",
            "      BasicConv2d-20          [-1, 128, 28, 28]               0\n",
            "           Conv2d-21           [-1, 16, 28, 28]           3,072\n",
            "      BatchNorm2d-22           [-1, 16, 28, 28]              32\n",
            "      BasicConv2d-23           [-1, 16, 28, 28]               0\n",
            "           Conv2d-24           [-1, 32, 28, 28]           4,608\n",
            "      BatchNorm2d-25           [-1, 32, 28, 28]              64\n",
            "      BasicConv2d-26           [-1, 32, 28, 28]               0\n",
            "        MaxPool2d-27          [-1, 192, 28, 28]               0\n",
            "           Conv2d-28           [-1, 32, 28, 28]           6,144\n",
            "      BatchNorm2d-29           [-1, 32, 28, 28]              64\n",
            "      BasicConv2d-30           [-1, 32, 28, 28]               0\n",
            "        Inception-31          [-1, 256, 28, 28]               0\n",
            "           Conv2d-32          [-1, 128, 28, 28]          32,768\n",
            "      BatchNorm2d-33          [-1, 128, 28, 28]             256\n",
            "      BasicConv2d-34          [-1, 128, 28, 28]               0\n",
            "           Conv2d-35          [-1, 128, 28, 28]          32,768\n",
            "      BatchNorm2d-36          [-1, 128, 28, 28]             256\n",
            "      BasicConv2d-37          [-1, 128, 28, 28]               0\n",
            "           Conv2d-38          [-1, 192, 28, 28]         221,184\n",
            "      BatchNorm2d-39          [-1, 192, 28, 28]             384\n",
            "      BasicConv2d-40          [-1, 192, 28, 28]               0\n",
            "           Conv2d-41           [-1, 32, 28, 28]           8,192\n",
            "      BatchNorm2d-42           [-1, 32, 28, 28]              64\n",
            "      BasicConv2d-43           [-1, 32, 28, 28]               0\n",
            "           Conv2d-44           [-1, 96, 28, 28]          27,648\n",
            "      BatchNorm2d-45           [-1, 96, 28, 28]             192\n",
            "      BasicConv2d-46           [-1, 96, 28, 28]               0\n",
            "        MaxPool2d-47          [-1, 256, 28, 28]               0\n",
            "           Conv2d-48           [-1, 64, 28, 28]          16,384\n",
            "      BatchNorm2d-49           [-1, 64, 28, 28]             128\n",
            "      BasicConv2d-50           [-1, 64, 28, 28]               0\n",
            "        Inception-51          [-1, 480, 28, 28]               0\n",
            "        MaxPool2d-52          [-1, 480, 14, 14]               0\n",
            "           Conv2d-53          [-1, 192, 14, 14]          92,160\n",
            "      BatchNorm2d-54          [-1, 192, 14, 14]             384\n",
            "      BasicConv2d-55          [-1, 192, 14, 14]               0\n",
            "           Conv2d-56           [-1, 96, 14, 14]          46,080\n",
            "      BatchNorm2d-57           [-1, 96, 14, 14]             192\n",
            "      BasicConv2d-58           [-1, 96, 14, 14]               0\n",
            "           Conv2d-59          [-1, 208, 14, 14]         179,712\n",
            "      BatchNorm2d-60          [-1, 208, 14, 14]             416\n",
            "      BasicConv2d-61          [-1, 208, 14, 14]               0\n",
            "           Conv2d-62           [-1, 16, 14, 14]           7,680\n",
            "      BatchNorm2d-63           [-1, 16, 14, 14]              32\n",
            "      BasicConv2d-64           [-1, 16, 14, 14]               0\n",
            "           Conv2d-65           [-1, 48, 14, 14]           6,912\n",
            "      BatchNorm2d-66           [-1, 48, 14, 14]              96\n",
            "      BasicConv2d-67           [-1, 48, 14, 14]               0\n",
            "        MaxPool2d-68          [-1, 480, 14, 14]               0\n",
            "           Conv2d-69           [-1, 64, 14, 14]          30,720\n",
            "      BatchNorm2d-70           [-1, 64, 14, 14]             128\n",
            "      BasicConv2d-71           [-1, 64, 14, 14]               0\n",
            "        Inception-72          [-1, 512, 14, 14]               0\n",
            "           Conv2d-73          [-1, 160, 14, 14]          81,920\n",
            "      BatchNorm2d-74          [-1, 160, 14, 14]             320\n",
            "      BasicConv2d-75          [-1, 160, 14, 14]               0\n",
            "           Conv2d-76          [-1, 112, 14, 14]          57,344\n",
            "      BatchNorm2d-77          [-1, 112, 14, 14]             224\n",
            "      BasicConv2d-78          [-1, 112, 14, 14]               0\n",
            "           Conv2d-79          [-1, 224, 14, 14]         225,792\n",
            "      BatchNorm2d-80          [-1, 224, 14, 14]             448\n",
            "      BasicConv2d-81          [-1, 224, 14, 14]               0\n",
            "           Conv2d-82           [-1, 24, 14, 14]          12,288\n",
            "      BatchNorm2d-83           [-1, 24, 14, 14]              48\n",
            "      BasicConv2d-84           [-1, 24, 14, 14]               0\n",
            "           Conv2d-85           [-1, 64, 14, 14]          13,824\n",
            "      BatchNorm2d-86           [-1, 64, 14, 14]             128\n",
            "      BasicConv2d-87           [-1, 64, 14, 14]               0\n",
            "        MaxPool2d-88          [-1, 512, 14, 14]               0\n",
            "           Conv2d-89           [-1, 64, 14, 14]          32,768\n",
            "      BatchNorm2d-90           [-1, 64, 14, 14]             128\n",
            "      BasicConv2d-91           [-1, 64, 14, 14]               0\n",
            "        Inception-92          [-1, 512, 14, 14]               0\n",
            "           Conv2d-93          [-1, 128, 14, 14]          65,536\n",
            "      BatchNorm2d-94          [-1, 128, 14, 14]             256\n",
            "      BasicConv2d-95          [-1, 128, 14, 14]               0\n",
            "           Conv2d-96          [-1, 128, 14, 14]          65,536\n",
            "      BatchNorm2d-97          [-1, 128, 14, 14]             256\n",
            "      BasicConv2d-98          [-1, 128, 14, 14]               0\n",
            "           Conv2d-99          [-1, 256, 14, 14]         294,912\n",
            "     BatchNorm2d-100          [-1, 256, 14, 14]             512\n",
            "     BasicConv2d-101          [-1, 256, 14, 14]               0\n",
            "          Conv2d-102           [-1, 24, 14, 14]          12,288\n",
            "     BatchNorm2d-103           [-1, 24, 14, 14]              48\n",
            "     BasicConv2d-104           [-1, 24, 14, 14]               0\n",
            "          Conv2d-105           [-1, 64, 14, 14]          13,824\n",
            "     BatchNorm2d-106           [-1, 64, 14, 14]             128\n",
            "     BasicConv2d-107           [-1, 64, 14, 14]               0\n",
            "       MaxPool2d-108          [-1, 512, 14, 14]               0\n",
            "          Conv2d-109           [-1, 64, 14, 14]          32,768\n",
            "     BatchNorm2d-110           [-1, 64, 14, 14]             128\n",
            "     BasicConv2d-111           [-1, 64, 14, 14]               0\n",
            "       Inception-112          [-1, 512, 14, 14]               0\n",
            "          Conv2d-113          [-1, 112, 14, 14]          57,344\n",
            "     BatchNorm2d-114          [-1, 112, 14, 14]             224\n",
            "     BasicConv2d-115          [-1, 112, 14, 14]               0\n",
            "          Conv2d-116          [-1, 144, 14, 14]          73,728\n",
            "     BatchNorm2d-117          [-1, 144, 14, 14]             288\n",
            "     BasicConv2d-118          [-1, 144, 14, 14]               0\n",
            "          Conv2d-119          [-1, 288, 14, 14]         373,248\n",
            "     BatchNorm2d-120          [-1, 288, 14, 14]             576\n",
            "     BasicConv2d-121          [-1, 288, 14, 14]               0\n",
            "          Conv2d-122           [-1, 32, 14, 14]          16,384\n",
            "     BatchNorm2d-123           [-1, 32, 14, 14]              64\n",
            "     BasicConv2d-124           [-1, 32, 14, 14]               0\n",
            "          Conv2d-125           [-1, 64, 14, 14]          18,432\n",
            "     BatchNorm2d-126           [-1, 64, 14, 14]             128\n",
            "     BasicConv2d-127           [-1, 64, 14, 14]               0\n",
            "       MaxPool2d-128          [-1, 512, 14, 14]               0\n",
            "          Conv2d-129           [-1, 64, 14, 14]          32,768\n",
            "     BatchNorm2d-130           [-1, 64, 14, 14]             128\n",
            "     BasicConv2d-131           [-1, 64, 14, 14]               0\n",
            "       Inception-132          [-1, 528, 14, 14]               0\n",
            "          Conv2d-133          [-1, 256, 14, 14]         135,168\n",
            "     BatchNorm2d-134          [-1, 256, 14, 14]             512\n",
            "     BasicConv2d-135          [-1, 256, 14, 14]               0\n",
            "          Conv2d-136          [-1, 160, 14, 14]          84,480\n",
            "     BatchNorm2d-137          [-1, 160, 14, 14]             320\n",
            "     BasicConv2d-138          [-1, 160, 14, 14]               0\n",
            "          Conv2d-139          [-1, 320, 14, 14]         460,800\n",
            "     BatchNorm2d-140          [-1, 320, 14, 14]             640\n",
            "     BasicConv2d-141          [-1, 320, 14, 14]               0\n",
            "          Conv2d-142           [-1, 32, 14, 14]          16,896\n",
            "     BatchNorm2d-143           [-1, 32, 14, 14]              64\n",
            "     BasicConv2d-144           [-1, 32, 14, 14]               0\n",
            "          Conv2d-145          [-1, 128, 14, 14]          36,864\n",
            "     BatchNorm2d-146          [-1, 128, 14, 14]             256\n",
            "     BasicConv2d-147          [-1, 128, 14, 14]               0\n",
            "       MaxPool2d-148          [-1, 528, 14, 14]               0\n",
            "          Conv2d-149          [-1, 128, 14, 14]          67,584\n",
            "     BatchNorm2d-150          [-1, 128, 14, 14]             256\n",
            "     BasicConv2d-151          [-1, 128, 14, 14]               0\n",
            "       Inception-152          [-1, 832, 14, 14]               0\n",
            "       MaxPool2d-153            [-1, 832, 7, 7]               0\n",
            "          Conv2d-154            [-1, 256, 7, 7]         212,992\n",
            "     BatchNorm2d-155            [-1, 256, 7, 7]             512\n",
            "     BasicConv2d-156            [-1, 256, 7, 7]               0\n",
            "          Conv2d-157            [-1, 160, 7, 7]         133,120\n",
            "     BatchNorm2d-158            [-1, 160, 7, 7]             320\n",
            "     BasicConv2d-159            [-1, 160, 7, 7]               0\n",
            "          Conv2d-160            [-1, 320, 7, 7]         460,800\n",
            "     BatchNorm2d-161            [-1, 320, 7, 7]             640\n",
            "     BasicConv2d-162            [-1, 320, 7, 7]               0\n",
            "          Conv2d-163             [-1, 32, 7, 7]          26,624\n",
            "     BatchNorm2d-164             [-1, 32, 7, 7]              64\n",
            "     BasicConv2d-165             [-1, 32, 7, 7]               0\n",
            "          Conv2d-166            [-1, 128, 7, 7]          36,864\n",
            "     BatchNorm2d-167            [-1, 128, 7, 7]             256\n",
            "     BasicConv2d-168            [-1, 128, 7, 7]               0\n",
            "       MaxPool2d-169            [-1, 832, 7, 7]               0\n",
            "          Conv2d-170            [-1, 128, 7, 7]         106,496\n",
            "     BatchNorm2d-171            [-1, 128, 7, 7]             256\n",
            "     BasicConv2d-172            [-1, 128, 7, 7]               0\n",
            "       Inception-173            [-1, 832, 7, 7]               0\n",
            "          Conv2d-174            [-1, 384, 7, 7]         319,488\n",
            "     BatchNorm2d-175            [-1, 384, 7, 7]             768\n",
            "     BasicConv2d-176            [-1, 384, 7, 7]               0\n",
            "          Conv2d-177            [-1, 192, 7, 7]         159,744\n",
            "     BatchNorm2d-178            [-1, 192, 7, 7]             384\n",
            "     BasicConv2d-179            [-1, 192, 7, 7]               0\n",
            "          Conv2d-180            [-1, 384, 7, 7]         663,552\n",
            "     BatchNorm2d-181            [-1, 384, 7, 7]             768\n",
            "     BasicConv2d-182            [-1, 384, 7, 7]               0\n",
            "          Conv2d-183             [-1, 48, 7, 7]          39,936\n",
            "     BatchNorm2d-184             [-1, 48, 7, 7]              96\n",
            "     BasicConv2d-185             [-1, 48, 7, 7]               0\n",
            "          Conv2d-186            [-1, 128, 7, 7]          55,296\n",
            "     BatchNorm2d-187            [-1, 128, 7, 7]             256\n",
            "     BasicConv2d-188            [-1, 128, 7, 7]               0\n",
            "       MaxPool2d-189            [-1, 832, 7, 7]               0\n",
            "          Conv2d-190            [-1, 128, 7, 7]         106,496\n",
            "     BatchNorm2d-191            [-1, 128, 7, 7]             256\n",
            "     BasicConv2d-192            [-1, 128, 7, 7]               0\n",
            "       Inception-193           [-1, 1024, 7, 7]               0\n",
            "AdaptiveAvgPool2d-194           [-1, 1024, 1, 1]               0\n",
            "         Dropout-195                 [-1, 1024]               0\n",
            "          Linear-196                    [-1, 3]           3,075\n",
            "================================================================\n",
            "Total params: 5,602,979\n",
            "Trainable params: 5,602,979\n",
            "Non-trainable params: 0\n",
            "----------------------------------------------------------------\n",
            "Input size (MB): 0.57\n",
            "Forward/backward pass size (MB): 94.10\n",
            "Params size (MB): 21.37\n",
            "Estimated Total Size (MB): 116.05\n",
            "----------------------------------------------------------------\n",
            "Epoch 0/9\n",
            "----------\n"
          ]
        },
        {
          "output_type": "stream",
          "name": "stderr",
          "text": [
            "/usr/local/lib/python3.10/dist-packages/torch/utils/data/dataloader.py:558: UserWarning: This DataLoader will create 4 worker processes in total. Our suggested max number of worker in current system is 2, which is smaller than what this DataLoader is going to create. Please be aware that excessive worker creation might get DataLoader running slow or even freeze, lower the worker number to avoid potential slowness/freeze if necessary.\n",
            "  warnings.warn(_create_warning_msg(\n",
            "/usr/lib/python3.10/multiprocessing/popen_fork.py:66: RuntimeWarning: os.fork() was called. os.fork() is incompatible with multithreaded code, and JAX is multithreaded, so this will likely lead to a deadlock.\n",
            "  self.pid = os.fork()\n"
          ]
        },
        {
          "output_type": "stream",
          "name": "stdout",
          "text": [
            "train Loss: 1.0672 Acc: 0.4357\n",
            "val Loss: 0.9404 Acc: 0.7000\n",
            "Epoch 1/9\n",
            "----------\n",
            "train Loss: 0.8753 Acc: 0.6857\n",
            "val Loss: 0.7448 Acc: 0.8667\n",
            "Epoch 2/9\n",
            "----------\n",
            "train Loss: 0.7050 Acc: 0.8167\n",
            "val Loss: 0.5985 Acc: 0.9333\n",
            "Epoch 3/9\n",
            "----------\n",
            "train Loss: 0.5504 Acc: 0.8738\n",
            "val Loss: 0.4666 Acc: 0.9667\n",
            "Epoch 4/9\n",
            "----------\n",
            "train Loss: 0.4103 Acc: 0.9048\n",
            "val Loss: 0.3780 Acc: 0.9333\n",
            "Epoch 5/9\n",
            "----------\n",
            "train Loss: 0.3214 Acc: 0.9548\n",
            "val Loss: 0.3150 Acc: 0.9667\n",
            "Epoch 6/9\n",
            "----------\n",
            "train Loss: 0.2511 Acc: 0.9643\n",
            "val Loss: 0.2469 Acc: 0.9667\n",
            "Epoch 7/9\n",
            "----------\n",
            "train Loss: 0.2050 Acc: 0.9714\n",
            "val Loss: 0.2300 Acc: 0.9667\n",
            "Epoch 8/9\n",
            "----------\n",
            "train Loss: 0.1754 Acc: 0.9714\n",
            "val Loss: 0.2004 Acc: 0.9333\n",
            "Epoch 9/9\n",
            "----------\n",
            "train Loss: 0.1438 Acc: 0.9762\n",
            "val Loss: 0.1650 Acc: 0.9667\n",
            "Best val Acc: 0.966667\n"
          ]
        }
      ]
    },
    {
      "cell_type": "code",
      "source": [
        "# Evaluate model and print classification report\n",
        "def evaluate_model(model, dataloaders):\n",
        "    model.eval()\n",
        "    all_labels = []\n",
        "    all_preds = []\n",
        "\n",
        "    with torch.no_grad():\n",
        "        for inputs, labels in dataloaders['test']:\n",
        "            inputs = inputs.to(device)\n",
        "            labels = labels.to(device)\n",
        "            outputs = model(inputs)\n",
        "            _, preds = torch.max(outputs, 1)\n",
        "            all_labels.extend(labels.cpu().numpy())\n",
        "            all_preds.extend(preds.cpu().numpy())\n",
        "\n",
        "    print(\"Classification Report:\")\n",
        "    print(classification_report(all_labels, all_preds, target_names=image_datasets['train'].classes))\n",
        "\n",
        "evaluate_model(model, dataloaders)"
      ],
      "metadata": {
        "colab": {
          "base_uri": "https://localhost:8080/"
        },
        "id": "PNsCmbNs-Zu9",
        "outputId": "fbf14bee-898f-48d0-8536-8eef8f486355"
      },
      "execution_count": null,
      "outputs": [
        {
          "output_type": "stream",
          "name": "stdout",
          "text": [
            "Classification Report:\n",
            "                       precision    recall  f1-score   support\n",
            "\n",
            "Bacterial leaf blight       1.00      1.00      1.00        10\n",
            "           Brown spot       0.91      1.00      0.95        10\n",
            "            Leaf smut       1.00      0.90      0.95        10\n",
            "\n",
            "             accuracy                           0.97        30\n",
            "            macro avg       0.97      0.97      0.97        30\n",
            "         weighted avg       0.97      0.97      0.97        30\n",
            "\n"
          ]
        }
      ]
    },
    {
      "cell_type": "code",
      "source": [
        "import matplotlib.pyplot as plt\n",
        "\n",
        "# Plotting loss and accuracy\n",
        "def plot_training_history(history):\n",
        "    epochs = range(1, len(history['train_loss']) + 1)\n",
        "\n",
        "    plt.figure(figsize=(12, 4))\n",
        "\n",
        "    # Plot training & validation loss values\n",
        "    plt.subplot(1, 2, 1)\n",
        "    plt.plot(epochs, history['train_loss'], 'b', label='Training Loss')\n",
        "    plt.plot(epochs, history['val_loss'], 'r', label='Validation Loss')\n",
        "    plt.title('Training and Validation Loss')\n",
        "    plt.xlabel('Epochs')\n",
        "    plt.ylabel('Loss')\n",
        "    plt.legend()\n",
        "\n",
        "    # Plot training & validation accuracy values\n",
        "    plt.subplot(1, 2, 2)\n",
        "    plt.plot(epochs, history['train_acc'], 'b', label='Training Accuracy')\n",
        "    plt.plot(epochs, history['val_acc'], 'r', label='Validation Accuracy')\n",
        "    plt.title('Training and Validation Accuracy')\n",
        "    plt.xlabel('Epochs')\n",
        "    plt.ylabel('Accuracy')\n",
        "    plt.legend()\n",
        "\n",
        "    plt.show()\n",
        "\n",
        "plot_training_history(history)"
      ],
      "metadata": {
        "colab": {
          "base_uri": "https://localhost:8080/",
          "height": 410
        },
        "id": "0E6yVhI5wwjB",
        "outputId": "427c98bf-0190-44aa-bc7f-24325bd4d08f"
      },
      "execution_count": null,
      "outputs": [
        {
          "output_type": "display_data",
          "data": {
            "text/plain": [
              "<Figure size 1200x400 with 2 Axes>"
            ],
            "image/png": "[encoded data removed]"
          },
          "metadata": {}
        }
      ]
    },
    {
      "cell_type": "code",
      "source": [
        "model.eval()\n",
        "running_corrects = 0\n",
        "all_preds = []\n",
        "all_labels = []\n",
        "\n",
        "for inputs, labels in dataloaders['test']:\n",
        "    inputs = inputs.to(device)\n",
        "    labels = labels.to(device)\n",
        "    with torch.no_grad():\n",
        "        outputs = model(inputs)\n",
        "        _, preds = torch.max(outputs, 1)\n",
        "    running_corrects += torch.sum(preds == labels.data)\n",
        "    all_preds.extend(preds.cpu().numpy())\n",
        "    all_labels.extend(labels.cpu().numpy())\n",
        "\n",
        "test_acc = running_corrects.double() / len(dataloaders['test'].dataset)\n",
        "print(f'Test Acc: {test_acc:.4f}')\n",
        "\n",
        "# Save the model\n",
        "torch.save(model.state_dict(), 'best_model.pth')\n",
        "\n",
        "# Load the model\n",
        "model.load_state_dict(torch.load('best_model.pth'))"
      ],
      "metadata": {
        "colab": {
          "base_uri": "https://localhost:8080/"
        },
        "id": "Y8U8RZyXvqCM",
        "outputId": "1b44cfa2-a6e6-4f96-a311-f613be4dfd70"
      },
      "execution_count": null,
      "outputs": [
        {
          "output_type": "stream",
          "name": "stderr",
          "text": [
            "/usr/local/lib/python3.10/dist-packages/torch/utils/data/dataloader.py:558: UserWarning: This DataLoader will create 4 worker processes in total. Our suggested max number of worker in current system is 2, which is smaller than what this DataLoader is going to create. Please be aware that excessive worker creation might get DataLoader running slow or even freeze, lower the worker number to avoid potential slowness/freeze if necessary.\n",
            "  warnings.warn(_create_warning_msg(\n",
            "/usr/lib/python3.10/multiprocessing/popen_fork.py:66: RuntimeWarning: os.fork() was called. os.fork() is incompatible with multithreaded code, and JAX is multithreaded, so this will likely lead to a deadlock.\n",
            "  self.pid = os.fork()\n"
          ]
        },
        {
          "output_type": "stream",
          "name": "stdout",
          "text": [
            "Test Acc: 0.9667\n"
          ]
        },
        {
          "output_type": "execute_result",
          "data": {
            "text/plain": [
              "<All keys matched successfully>"
            ]
          },
          "metadata": {},
          "execution_count": 17
        }
      ]
    },
    {
      "cell_type": "code",
      "source": [
        "import seaborn as sns\n",
        "import matplotlib.pyplot as plt\n",
        "from sklearn.metrics import confusion_matrix\n",
        "\n",
        "cm = confusion_matrix(all_labels, all_preds)\n",
        "cm_labels = image_datasets['test'].classes\n",
        "\n",
        "plt.figure(figsize=(10, 8))\n",
        "sns.heatmap(cm, annot=True, fmt='d', cmap='Blues', xticklabels=cm_labels, yticklabels=cm_labels)\n",
        "plt.xlabel('Predicted')\n",
        "plt.ylabel('True')\n",
        "plt.title('Confusion Matrix')\n",
        "plt.show()"
      ],
      "metadata": {
        "colab": {
          "base_uri": "https://localhost:8080/",
          "height": 718
        },
        "id": "tNRDHBs1vuN1",
        "outputId": "cf5b513c-bf3e-4ef3-e248-ab9cf4aeb4f0"
      },
      "execution_count": null,
      "outputs": [
        {
          "output_type": "display_data",
          "data": {
            "text/plain": [
              "<Figure size 1000x800 with 2 Axes>"
            ],
            "image/png": "[encoded data removed]"
          },
          "metadata": {}
        }
      ]
    },
    {
      "cell_type": "code",
      "source": [
        "import torch\n",
        "import torch.nn as nn\n",
        "from torchvision import models, transforms\n",
        "from PIL import Image\n",
        "from google.colab import files\n",
        "import matplotlib.pyplot as plt\n",
        "import os\n",
        "\n",
        "# Definisikan ulang arsitektur model yang sama tanpa auxiliary layers\n",
        "model = models.googlenet(pretrained=False, aux_logits=False)\n",
        "num_ftrs = model.fc.in_features\n",
        "model.fc = nn.Linear(num_ftrs, len(image_datasets['train'].classes))\n",
        "\n",
        "# Muat model yang telah dilatih\n",
        "state_dict = torch.load('best_model.pth', map_location=torch.device('cpu'))\n",
        "model.load_state_dict(state_dict)\n",
        "model.eval()  # Set model ke evaluasi mode\n",
        "\n",
        "# Definisikan transformasi\n",
        "data_transforms = transforms.Compose([\n",
        "    transforms.Resize((224, 224)),\n",
        "    transforms.ToTensor(),\n",
        "    transforms.Normalize([0.485, 0.456, 0.406], [0.229, 0.224, 0.225])\n",
        "])\n",
        "\n",
        "# Fungsi untuk memproses gambar baru\n",
        "def process_image(image_path):\n",
        "    image = Image.open(image_path)\n",
        "    image = data_transforms(image)\n",
        "    image = image.unsqueeze(0)  # Tambahkan batch dimension\n",
        "    return image\n",
        "\n",
        "# Unggah gambar\n",
        "uploaded = files.upload()\n",
        "\n",
        "# Pindahkan model ke device yang sesuai (CPU atau GPU)\n",
        "device = torch.device(\"cuda:0\" if torch.cuda.is_available() else \"cpu\")\n",
        "model = model.to(device)\n",
        "\n",
        "# Lakukan prediksi dan tampilkan gambar\n",
        "for filename in uploaded.keys():\n",
        "    image_tensor = process_image(filename)\n",
        "    image_tensor = image_tensor.to(device)\n",
        "\n",
        "    with torch.no_grad():\n",
        "        outputs = model(image_tensor)\n",
        "        _, preds = torch.max(outputs, 1)\n",
        "\n",
        "    # Dapatkan kelas prediksi\n",
        "    predicted_class = image_datasets['train'].classes[preds.item()]\n",
        "    print(f'Predicted class for {filename}: {predicted_class}')\n",
        "\n",
        "    # Tampilkan gambar\n",
        "    image = Image.open(filename)\n",
        "    plt.imshow(image)\n",
        "    plt.title(f'Predicted class: {predicted_class}')\n",
        "    plt.axis('off')\n",
        "    plt.show()"
      ],
      "metadata": {
        "colab": {
          "base_uri": "https://localhost:8080/",
          "height": 400
        },
        "id": "2IWUd1dUDDPF",
        "outputId": "ccbdc474-1cf5-466f-c0fc-2028ab4922cc"
      },
      "execution_count": null,
      "outputs": [
        {
          "output_type": "stream",
          "name": "stderr",
          "text": [
            "/usr/local/lib/python3.10/dist-packages/torchvision/models/_utils.py:208: UserWarning: The parameter 'pretrained' is deprecated since 0.13 and may be removed in the future, please use 'weights' instead.\n",
            "  warnings.warn(\n",
            "/usr/local/lib/python3.10/dist-packages/torchvision/models/_utils.py:223: UserWarning: Arguments other than a weight enum or `None` for 'weights' are deprecated since 0.13 and may be removed in the future. The current behavior is equivalent to passing `weights=None`.\n",
            "  warnings.warn(msg)\n",
            "/usr/local/lib/python3.10/dist-packages/torchvision/models/googlenet.py:47: FutureWarning: The default weight initialization of GoogleNet will be changed in future releases of torchvision. If you wish to keep the old behavior (which leads to long initialization times due to scipy/scipy#11299), please set init_weights=True.\n",
            "  warnings.warn(\n"
          ]
        },
        {
          "output_type": "display_data",
          "data": {
            "text/plain": [
              "<IPython.core.display.HTML object>"
            ],
            "text/html": [
              "\n",
              "     <input type=\"file\" id=\"files-01ac6ac5-920d-42b1-bd25-0f94eaf41412\" name=\"files[]\" multiple disabled\n",
              "        style=\"border:none\" />\n",
              "     <output id=\"result-01ac6ac5-920d-42b1-bd25-0f94eaf41412\">\n",
              "      Upload widget is only available when the cell has been executed in the\n",
              "      current browser session. Please rerun this cell to enable.\n",
              "      </output>\n",
              "      <script>// Copyright 2017 Google LLC\n",
              "//\n",
              "// Licensed under the Apache License, Version 2.0 (the \"License\");\n",
              "// you may not use this file except in compliance with the License.\n",
              "// You may obtain a copy of the License at\n",
              "//\n",
              "//      http://www.apache.org/licenses/LICENSE-2.0\n",
              "//\n",
              "// Unless required by applicable law or agreed to in writing, software\n",
              "// distributed under the License is distributed on an \"AS IS\" BASIS,\n",
              "// WITHOUT WARRANTIES OR CONDITIONS OF ANY KIND, either express or implied.\n",
              "// See the License for the specific language governing permissions and\n",
              "// limitations under the License.\n",
              "\n",
              "/**\n",
              " * @fileoverview Helpers for google.colab Python module.\n",
              " */\n",
              "(function(scope) {\n",
              "function span(text, styleAttributes = {}) {\n",
              "  const element = document.createElement('span');\n",
              "  element.textContent = text;\n",
              "  for (const key of Object.keys(styleAttributes)) {\n",
              "    element.style[key] = styleAttributes[key];\n",
              "  }\n",
              "  return element;\n",
              "}\n",
              "\n",
              "// Max number of bytes which will be uploaded at a time.\n",
              "const MAX_PAYLOAD_SIZE = 100 * 1024;\n",
              "\n",
              "function _uploadFiles(inputId, outputId) {\n",
              "  const steps = uploadFilesStep(inputId, outputId);\n",
              "  const outputElement = document.getElementById(outputId);\n",
              "  // Cache steps on the outputElement to make it available for the next call\n",
              "  // to uploadFilesContinue from Python.\n",
              "  outputElement.steps = steps;\n",
              "\n",
              "  return _uploadFilesContinue(outputId);\n",
              "}\n",
              "\n",
              "// This is roughly an async generator (not supported in the browser yet),\n",
              "// where there are multiple asynchronous steps and the Python side is going\n",
              "// to poll for completion of each step.\n",
              "// This uses a Promise to block the python side on completion of each step,\n",
              "// then passes the result of the previous step as the input to the next step.\n",
              "function _uploadFilesContinue(outputId) {\n",
              "  const outputElement = document.getElementById(outputId);\n",
              "  const steps = outputElement.steps;\n",
              "\n",
              "  const next = steps.next(outputElement.lastPromiseValue);\n",
              "  return Promise.resolve(next.value.promise).then((value) => {\n",
              "    // Cache the last promise value to make it available to the next\n",
              "    // step of the generator.\n",
              "    outputElement.lastPromiseValue = value;\n",
              "    return next.value.response;\n",
              "  });\n",
              "}\n",
              "\n",
              "/**\n",
              " * Generator function which is called between each async step of the upload\n",
              " * process.\n",
              " * @param {string} inputId Element ID of the input file picker element.\n",
              " * @param {string} outputId Element ID of the output display.\n",
              " * @return {!Iterable<!Object>} Iterable of next steps.\n",
              " */\n",
              "function* uploadFilesStep(inputId, outputId) {\n",
              "  const inputElement = document.getElementById(inputId);\n",
              "  inputElement.disabled = false;\n",
              "\n",
              "  const outputElement = document.getElementById(outputId);\n",
              "  outputElement.innerHTML = '';\n",
              "\n",
              "  const pickedPromise = new Promise((resolve) => {\n",
              "    inputElement.addEventListener('change', (e) => {\n",
              "      resolve(e.target.files);\n",
              "    });\n",
              "  });\n",
              "\n",
              "  const cancel = document.createElement('button');\n",
              "  inputElement.parentElement.appendChild(cancel);\n",
              "  cancel.textContent = 'Cancel upload';\n",
              "  const cancelPromise = new Promise((resolve) => {\n",
              "    cancel.onclick = () => {\n",
              "      resolve(null);\n",
              "    };\n",
              "  });\n",
              "\n",
              "  // Wait for the user to pick the files.\n",
              "  const files = yield {\n",
              "    promise: Promise.race([pickedPromise, cancelPromise]),\n",
              "    response: {\n",
              "      action: 'starting',\n",
              "    }\n",
              "  };\n",
              "\n",
              "  cancel.remove();\n",
              "\n",
              "  // Disable the input element since further picks are not allowed.\n",
              "  inputElement.disabled = true;\n",
              "\n",
              "  if (!files) {\n",
              "    return {\n",
              "      response: {\n",
              "        action: 'complete',\n",
              "      }\n",
              "    };\n",
              "  }\n",
              "\n",
              "  for (const file of files) {\n",
              "    const li = document.createElement('li');\n",
              "    li.append(span(file.name, {fontWeight: 'bold'}));\n",
              "    li.append(span(\n",
              "        `(${file.type || 'n/a'}) - ${file.size} bytes, ` +\n",
              "        `last modified: ${\n",
              "            file.lastModifiedDate ? file.lastModifiedDate.toLocaleDateString() :\n",
              "                                    'n/a'} - `));\n",
              "    const percent = span('0% done');\n",
              "    li.appendChild(percent);\n",
              "\n",
              "    outputElement.appendChild(li);\n",
              "\n",
              "    const fileDataPromise = new Promise((resolve) => {\n",
              "      const reader = new FileReader();\n",
              "      reader.onload = (e) => {\n",
              "        resolve(e.target.result);\n",
              "      };\n",
              "      reader.readAsArrayBuffer(file);\n",
              "    });\n",
              "    // Wait for the data to be ready.\n",
              "    let fileData = yield {\n",
              "      promise: fileDataPromise,\n",
              "      response: {\n",
              "        action: 'continue',\n",
              "      }\n",
              "    };\n",
              "\n",
              "    // Use a chunked sending to avoid message size limits. See b/62115660.\n",
              "    let position = 0;\n",
              "    do {\n",
              "      const length = Math.min(fileData.byteLength - position, MAX_PAYLOAD_SIZE);\n",
              "      const chunk = new Uint8Array(fileData, position, length);\n",
              "      position += length;\n",
              "\n",
              "      const base64 = btoa(String.fromCharCode.apply(null, chunk));\n",
              "      yield {\n",
              "        response: {\n",
              "          action: 'append',\n",
              "          file: file.name,\n",
              "          data: base64,\n",
              "        },\n",
              "      };\n",
              "\n",
              "      let percentDone = fileData.byteLength === 0 ?\n",
              "          100 :\n",
              "          Math.round((position / fileData.byteLength) * 100);\n",
              "      percent.textContent = `${percentDone}% done`;\n",
              "\n",
              "    } while (position < fileData.byteLength);\n",
              "  }\n",
              "\n",
              "  // All done.\n",
              "  yield {\n",
              "    response: {\n",
              "      action: 'complete',\n",
              "    }\n",
              "  };\n",
              "}\n",
              "\n",
              "scope.google = scope.google || {};\n",
              "scope.google.colab = scope.google.colab || {};\n",
              "scope.google.colab._files = {\n",
              "  _uploadFiles,\n",
              "  _uploadFilesContinue,\n",
              "};\n",
              "})(self);\n",
              "</script> "
            ]
          },
          "metadata": {}
        },
        {
          "output_type": "stream",
          "name": "stdout",
          "text": [
            "Saving DSC_0395.JPG to DSC_0395.JPG\n",
            "Predicted class for DSC_0395.JPG: Bacterial leaf blight\n"
          ]
        },
        {
          "output_type": "display_data",
          "data": {
            "text/plain": [
              "<Figure size 640x480 with 1 Axes>"
            ],
            "image/png": "[encoded data removed]"
          },
          "metadata": {}
        }
      ]
    },
    {
      "cell_type": "code",
      "source": [
        "from google.colab import files\n",
        "\n",
        "# Unduh file ZIP ke lokal\n",
        "files.download('/content/augmented_images.zip')"
      ],
      "metadata": {
        "colab": {
          "base_uri": "https://localhost:8080/",
          "height": 17
        },
        "id": "4w79X_zjgafU",
        "outputId": "2a36da0e-59fd-4b25-9baa-8ea9d918e523"
      },
      "execution_count": null,
      "outputs": [
        {
          "output_type": "display_data",
          "data": {
            "text/plain": [
              "<IPython.core.display.Javascript object>"
            ],
            "application/javascript": [
              "\n",
              "    async function download(id, filename, size) {\n",
              "      if (!google.colab.kernel.accessAllowed) {\n",
              "        return;\n",
              "      }\n",
              "      const div = document.createElement('div');\n",
              "      const label = document.createElement('label');\n",
              "      label.textContent = `Downloading \"${filename}\": `;\n",
              "      div.appendChild(label);\n",
              "      const progress = document.createElement('progress');\n",
              "      progress.max = size;\n",
              "      div.appendChild(progress);\n",
              "      document.body.appendChild(div);\n",
              "\n",
              "      const buffers = [];\n",
              "      let downloaded = 0;\n",
              "\n",
              "      const channel = await google.colab.kernel.comms.open(id);\n",
              "      // Send a message to notify the kernel that we're ready.\n",
              "      channel.send({})\n",
              "\n",
              "      for await (const message of channel.messages) {\n",
              "        // Send a message to notify the kernel that we're ready.\n",
              "        channel.send({})\n",
              "        if (message.buffers) {\n",
              "          for (const buffer of message.buffers) {\n",
              "            buffers.push(buffer);\n",
              "            downloaded += buffer.byteLength;\n",
              "            progress.value = downloaded;\n",
              "          }\n",
              "        }\n",
              "      }\n",
              "      const blob = new Blob(buffers, {type: 'application/binary'});\n",
              "      const a = document.createElement('a');\n",
              "      a.href = window.URL.createObjectURL(blob);\n",
              "      a.download = filename;\n",
              "      div.appendChild(a);\n",
              "      a.click();\n",
              "      div.remove();\n",
              "    }\n",
              "  "
            ]
          },
          "metadata": {}
        },
        {
          "output_type": "display_data",
          "data": {
            "text/plain": [
              "<IPython.core.display.Javascript object>"
            ],
            "application/javascript": [
              "download(\"download_e54af7df-d179-4a1b-9c0b-7ac862e46a8d\", \"augmented_images.zip\", 40999374)"
            ]
          },
          "metadata": {}
        }
      ]
    },
    {
      "cell_type": "code",
      "source": [
        "from google.colab import files\n",
        "\n",
        "# Unduh file ZIP ke lokal\n",
        "files.download('/content/best_model.pth')"
      ],
      "metadata": {
        "colab": {
          "base_uri": "https://localhost:8080/",
          "height": 17
        },
        "id": "krcZVlZxgeaW",
        "outputId": "c7601b7a-941d-4f3f-8e97-db8d2da53b33"
      },
      "execution_count": null,
      "outputs": [
        {
          "output_type": "display_data",
          "data": {
            "text/plain": [
              "<IPython.core.display.Javascript object>"
            ],
            "application/javascript": [
              "\n",
              "    async function download(id, filename, size) {\n",
              "      if (!google.colab.kernel.accessAllowed) {\n",
              "        return;\n",
              "      }\n",
              "      const div = document.createElement('div');\n",
              "      const label = document.createElement('label');\n",
              "      label.textContent = `Downloading \"${filename}\": `;\n",
              "      div.appendChild(label);\n",
              "      const progress = document.createElement('progress');\n",
              "      progress.max = size;\n",
              "      div.appendChild(progress);\n",
              "      document.body.appendChild(div);\n",
              "\n",
              "      const buffers = [];\n",
              "      let downloaded = 0;\n",
              "\n",
              "      const channel = await google.colab.kernel.comms.open(id);\n",
              "      // Send a message to notify the kernel that we're ready.\n",
              "      channel.send({})\n",
              "\n",
              "      for await (const message of channel.messages) {\n",
              "        // Send a message to notify the kernel that we're ready.\n",
              "        channel.send({})\n",
              "        if (message.buffers) {\n",
              "          for (const buffer of message.buffers) {\n",
              "            buffers.push(buffer);\n",
              "            downloaded += buffer.byteLength;\n",
              "            progress.value = downloaded;\n",
              "          }\n",
              "        }\n",
              "      }\n",
              "      const blob = new Blob(buffers, {type: 'application/binary'});\n",
              "      const a = document.createElement('a');\n",
              "      a.href = window.URL.createObjectURL(blob);\n",
              "      a.download = filename;\n",
              "      div.appendChild(a);\n",
              "      a.click();\n",
              "      div.remove();\n",
              "    }\n",
              "  "
            ]
          },
          "metadata": {}
        },
        {
          "output_type": "display_data",
          "data": {
            "text/plain": [
              "<IPython.core.display.Javascript object>"
            ],
            "application/javascript": [
              "download(\"download_1713e2ee-d3d5-4b3f-a645-3e7981ccaff3\", \"best_model.pth\", 22586454)"
            ]
          },
          "metadata": {}
        }
      ]
    }
  ]
}